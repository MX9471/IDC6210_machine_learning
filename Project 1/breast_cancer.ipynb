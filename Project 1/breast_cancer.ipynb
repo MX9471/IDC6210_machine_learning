{
 "cells": [
  {
   "cell_type": "markdown",
   "metadata": {},
   "source": [
    "Luke Crump\n",
    "\n",
    "## Import Libraries"
   ]
  },
  {
   "cell_type": "code",
   "execution_count": 35,
   "metadata": {},
   "outputs": [],
   "source": [
    "# Preprocessing/Data manipulation\n",
    "import pandas as pd\n",
    "from sklearn.preprocessing import LabelEncoder\n",
    "from sklearn.preprocessing import StandardScaler\n",
    "from sklearn.model_selection import train_test_split\n",
    "from sklearn.metrics import accuracy_score\n",
    "\n",
    "# classifiers\n",
    "from sklearn.linear_model import Perceptron\n",
    "from sklearn.linear_model import LogisticRegression\n",
    "from sklearn.svm import SVC\n",
    "from sklearn.tree import DecisionTreeClassifier\n",
    "from sklearn.neighbors import KNeighborsClassifier\n",
    "from sklearn.ensemble import RandomForestClassifier\n"
   ]
  },
  {
   "cell_type": "markdown",
   "metadata": {},
   "source": [
    "## Read CSVs"
   ]
  },
  {
   "cell_type": "code",
   "execution_count": 36,
   "metadata": {},
   "outputs": [],
   "source": [
    "answer = pd.read_csv('sample_submission.csv')\n",
    "\n",
    "test_data = pd.read_csv('test.csv')\n",
    "\n",
    "train_data = pd.read_csv('train.csv')"
   ]
  },
  {
   "cell_type": "code",
   "execution_count": 37,
   "metadata": {},
   "outputs": [
    {
     "data": {
      "text/plain": [
       "B    285\n",
       "M    170\n",
       "Name: label, dtype: int64"
      ]
     },
     "execution_count": 37,
     "metadata": {},
     "output_type": "execute_result"
    }
   ],
   "source": [
    "train_data['label'].value_counts()"
   ]
  },
  {
   "cell_type": "markdown",
   "metadata": {},
   "source": [
    "## Fixing Labeling\n",
    "\n",
    "Setting labeling to be 0 or 1 instead of M or B because it must be 0 or 1 to work with the classifier algorithms."
   ]
  },
  {
   "cell_type": "code",
   "execution_count": 38,
   "metadata": {},
   "outputs": [
    {
     "data": {
      "text/plain": [
       "0      1\n",
       "1      1\n",
       "2      0\n",
       "3      1\n",
       "4      1\n",
       "      ..\n",
       "109    0\n",
       "110    0\n",
       "111    0\n",
       "112    0\n",
       "113    0\n",
       "Name: label, Length: 114, dtype: int32"
      ]
     },
     "execution_count": 38,
     "metadata": {},
     "output_type": "execute_result"
    }
   ],
   "source": [
    "encoder = LabelEncoder()\n",
    "\n",
    "answer['label'] = encoder.fit_transform(answer['label'])\n",
    "answer['label']"
   ]
  },
  {
   "cell_type": "markdown",
   "metadata": {},
   "source": [
    "## Splitting Dataset & Feature Scaling\n",
    "\n",
    "Splitting the training data and assigning the test data, also scaling the data for digestion through the classifier algorithms."
   ]
  },
  {
   "cell_type": "code",
   "execution_count": 39,
   "metadata": {},
   "outputs": [],
   "source": [
    "# Training data\n",
    "X_train = train_data.drop(columns =['label'])\n",
    "y_train = train_data['label']\n",
    "\n",
    "\n",
    "\n",
    "# Test Data\n",
    "X_test = test_data\n",
    "\n",
    "sc = StandardScaler()\n",
    "\n",
    "X_train_scaled = sc.fit_transform(X_train)\n",
    "X_test_scaled = sc.transform(X_test)"
   ]
  },
  {
   "cell_type": "markdown",
   "metadata": {},
   "source": [
    "## Perceptron\n",
    "From here on out I'm just creating the classifier object and training it on the train data. Then the classifier is getting fed the test data and the answers are recorded in a csv that has a shortened name of the classifier."
   ]
  },
  {
   "cell_type": "code",
   "execution_count": 40,
   "metadata": {},
   "outputs": [],
   "source": [
    "perceptron = Perceptron()\n",
    "\n",
    "perceptron.fit(X_train_scaled, y_train)\n",
    "\n",
    "prediction = perceptron.predict(X_test_scaled)\n",
    "output_df = pd.DataFrame({'id': answer.id, 'label': prediction})\n",
    "output_df.to_csv('percept.csv', index = False)"
   ]
  },
  {
   "cell_type": "markdown",
   "metadata": {},
   "source": [
    "## Logistic Regression"
   ]
  },
  {
   "cell_type": "code",
   "execution_count": 41,
   "metadata": {},
   "outputs": [],
   "source": [
    "log_reg= LogisticRegression()\n",
    "\n",
    "log_reg.fit(X_train_scaled, y_train)\n",
    "\n",
    "prediction = log_reg.predict(X_test_scaled)\n",
    "output_df = pd.DataFrame({'id': answer.id, 'label': prediction})\n",
    "output_df.to_csv('log_reg.csv', index = False)\n"
   ]
  },
  {
   "cell_type": "markdown",
   "metadata": {},
   "source": [
    "## SVM\n",
    "I used this for my Kaggle submission."
   ]
  },
  {
   "cell_type": "code",
   "execution_count": 42,
   "metadata": {},
   "outputs": [],
   "source": [
    "svc = SVC()\n",
    "\n",
    "svc.fit(X_train_scaled, y_train)\n",
    "\n",
    "prediction = svc.predict(X_test_scaled)\n",
    "output_df = pd.DataFrame({'id': answer.id, 'label': prediction})\n",
    "output_df.to_csv('svm.csv', index = False)\n"
   ]
  },
  {
   "cell_type": "markdown",
   "metadata": {},
   "source": [
    "## Decision Tree Classifier"
   ]
  },
  {
   "cell_type": "code",
   "execution_count": 43,
   "metadata": {},
   "outputs": [],
   "source": [
    "dtc = DecisionTreeClassifier()\n",
    "\n",
    "dtc.fit(X_train_scaled, y_train)\n",
    "\n",
    "prediction = dtc.predict(X_test_scaled)\n",
    "output_df = pd.DataFrame({'id': answer.id, 'label': prediction})\n",
    "output_df.to_csv('dec_tree.csv', index = False)"
   ]
  },
  {
   "cell_type": "markdown",
   "metadata": {},
   "source": [
    "## KNN"
   ]
  },
  {
   "cell_type": "code",
   "execution_count": 44,
   "metadata": {},
   "outputs": [],
   "source": [
    "knn = KNeighborsClassifier()\n",
    "\n",
    "knn.fit(X_train_scaled, y_train)\n",
    "\n",
    "prediction = knn.predict(X_test_scaled)\n",
    "output_df = pd.DataFrame({'id': answer.id, 'label': prediction})\n",
    "output_df.to_csv('knn.csv', index = False)"
   ]
  },
  {
   "cell_type": "markdown",
   "metadata": {},
   "source": [
    "## Random Forest Classifier"
   ]
  },
  {
   "cell_type": "code",
   "execution_count": 45,
   "metadata": {},
   "outputs": [],
   "source": [
    "rfc = RandomForestClassifier()\n",
    "\n",
    "rfc.fit(X_train_scaled, y_train)\n",
    "\n",
    "prediction = rfc.predict(X_test_scaled)\n",
    "output_df = pd.DataFrame({'id': answer.id, 'label': prediction})\n",
    "output_df.to_csv('rfc.csv', index = False)"
   ]
  },
  {
   "cell_type": "markdown",
   "metadata": {},
   "source": [
    "## Finding Best Classifier\n",
    "Below I am running each classifier by splitting the training data and running them to get an idea on which classifier performs best."
   ]
  },
  {
   "cell_type": "code",
   "execution_count": 46,
   "metadata": {},
   "outputs": [],
   "source": [
    "X = train_data.drop('label', axis = 1).values\n",
    "y = train_data['label'].values\n",
    "\n",
    "x_train, x_test, y_train, y_test = train_test_split(X, y, test_size=0.2, random_state=42)\n",
    "\n",
    "sc = StandardScaler()\n",
    "\n",
    "X_train = sc.fit_transform(x_train)\n",
    "X_test= sc.transform(x_test)\n",
    "\n"
   ]
  },
  {
   "cell_type": "code",
   "execution_count": 47,
   "metadata": {},
   "outputs": [
    {
     "name": "stdout",
     "output_type": "stream",
     "text": [
      "Accuracy : 0.9560439560439561\n"
     ]
    }
   ],
   "source": [
    "perceptron = Perceptron()\n",
    "\n",
    "perceptron.fit(X_train, y_train)\n",
    "\n",
    "prediction = perceptron.predict(X_test)\n",
    "print(f'Accuracy : {accuracy_score(prediction, y_test)}')"
   ]
  },
  {
   "cell_type": "code",
   "execution_count": 48,
   "metadata": {},
   "outputs": [
    {
     "name": "stdout",
     "output_type": "stream",
     "text": [
      "Accuracy : 0.978021978021978\n"
     ]
    }
   ],
   "source": [
    "log_reg= LogisticRegression()\n",
    "\n",
    "log_reg.fit(X_train, y_train)\n",
    "\n",
    "prediction = log_reg.predict(X_test)\n",
    "print(f'Accuracy : {accuracy_score(prediction, y_test)}')"
   ]
  },
  {
   "cell_type": "markdown",
   "metadata": {},
   "source": [
    "Chose SVC for kaggle submission due to its high score."
   ]
  },
  {
   "cell_type": "code",
   "execution_count": 49,
   "metadata": {},
   "outputs": [
    {
     "name": "stdout",
     "output_type": "stream",
     "text": [
      "Accuracy : 0.989010989010989\n"
     ]
    }
   ],
   "source": [
    "svc = SVC()\n",
    "\n",
    "svc.fit(X_train, y_train)\n",
    "\n",
    "prediction = svc.predict(X_test)\n",
    "print(f'Accuracy : {accuracy_score(prediction, y_test)}')"
   ]
  },
  {
   "cell_type": "code",
   "execution_count": 50,
   "metadata": {},
   "outputs": [
    {
     "name": "stdout",
     "output_type": "stream",
     "text": [
      "Accuracy : 0.9120879120879121\n"
     ]
    }
   ],
   "source": [
    "dtc = DecisionTreeClassifier()\n",
    "\n",
    "dtc.fit(X_train, y_train)\n",
    "\n",
    "prediction = dtc.predict(X_test)\n",
    "print(f'Accuracy : {accuracy_score(prediction, y_test)}')"
   ]
  },
  {
   "cell_type": "code",
   "execution_count": 51,
   "metadata": {},
   "outputs": [
    {
     "name": "stdout",
     "output_type": "stream",
     "text": [
      "Accuracy : 0.989010989010989\n"
     ]
    }
   ],
   "source": [
    "knn = KNeighborsClassifier()\n",
    "\n",
    "knn.fit(X_train, y_train)\n",
    "\n",
    "prediction = knn.predict(X_test)\n",
    "print(f'Accuracy : {accuracy_score(prediction, y_test)}')"
   ]
  },
  {
   "cell_type": "code",
   "execution_count": 52,
   "metadata": {},
   "outputs": [
    {
     "name": "stdout",
     "output_type": "stream",
     "text": [
      "Accuracy : 0.967032967032967\n"
     ]
    }
   ],
   "source": [
    "rfc = RandomForestClassifier()\n",
    "\n",
    "rfc.fit(X_train, y_train)\n",
    "\n",
    "prediction = rfc.predict(X_test)\n",
    "print(f'Accuracy : {accuracy_score(prediction, y_test)}')"
   ]
  }
 ],
 "metadata": {
  "kernelspec": {
   "display_name": "Python 3",
   "language": "python",
   "name": "python3"
  },
  "language_info": {
   "codemirror_mode": {
    "name": "ipython",
    "version": 3
   },
   "file_extension": ".py",
   "mimetype": "text/x-python",
   "name": "python",
   "nbconvert_exporter": "python",
   "pygments_lexer": "ipython3",
   "version": "3.8.10"
  }
 },
 "nbformat": 4,
 "nbformat_minor": 2
}
